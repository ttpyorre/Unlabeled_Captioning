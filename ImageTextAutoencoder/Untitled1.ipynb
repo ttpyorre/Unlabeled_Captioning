{
 "cells": [
  {
   "cell_type": "code",
   "execution_count": 3,
   "id": "00540cc7",
   "metadata": {},
   "outputs": [
    {
     "name": "stdout",
     "output_type": "stream",
     "text": [
      "vector.shape=(100,)\n",
      "(400004, 100)\n",
      "(400000,)\n"
     ]
    }
   ],
   "source": [
    "import numpy as np\n",
    "import os\n",
    "import pickle\n",
    "\n",
    "\n",
    "glove_folder = 'glove.6B_flowers'\n",
    "gname = glove_folder + '/glove.6B.100d.txt' # for glove embedding\n",
    "word = []\n",
    "emb = []\n",
    "ind = 0\n",
    "i2t = {}\n",
    "t2i = {}\n",
    "with open(gname, 'r', encoding=\"utf-8\") as f:\n",
    "    for line in f:\n",
    "        values = line.split()\n",
    "        word.append(values[0])\n",
    "        vector = np.asarray(values[1:], \"float\")\n",
    "        emb.append(vector)\n",
    "        i2t[ind] = values[0]\n",
    "        t2i[values[0]] = ind\n",
    "        ind += 1\n",
    "    f.close()\n",
    "\n",
    "print(f\"{vector.shape=}\")\n",
    "vector = np.random.randn(emb[-1].shape[0])\n",
    "emb.append(vector)\n",
    "i2t[ind] = \"<SOS>\"\n",
    "t2i[\"<SOS>\"] = ind\n",
    "ind += 1\n",
    "vector = np.random.randn(emb[-1].shape[0])\n",
    "emb.append(vector)\n",
    "i2t[ind] = \"<EOS>\"\n",
    "t2i[\"<EOS>\"] = ind\n",
    "ind += 1\n",
    "vector = np.random.randn(emb[-1].shape[0])\n",
    "emb.append(vector)\n",
    "i2t[ind] = \"<PAD>\"\n",
    "t2i[\"<PAD>\"] = ind\n",
    "ind += 1\n",
    "vector = np.random.randn(emb[-1].shape[0])\n",
    "emb.append(vector)\n",
    "i2t[ind] = \"<UNK>\"\n",
    "t2i[\"<UNK>\"] = ind\n",
    "\n",
    "print(np.array(emb).shape)\n",
    "print(np.array(word).shape)\n",
    "#gname = None\n",
    "file_emb = open(os.path.join(glove_folder,'emtrix.obj'), 'wb')\n",
    "pickle.dump(np.array(emb), file_emb)\n",
    "file_emb.close()\n",
    "\n",
    "file_i2t = open(os.path.join(glove_folder,'vocab_i2t.obj'), 'wb')\n",
    "pickle.dump(i2t, file_i2t)\n",
    "file_i2t.close()\n",
    "\n",
    "file_t2i = open(os.path.join(glove_folder,'vocab_t2i.obj'), 'wb')\n",
    "pickle.dump(t2i, file_t2i)\n",
    "file_t2i.close()\n"
   ]
  },
  {
   "cell_type": "code",
   "execution_count": 4,
   "id": "598dd28f",
   "metadata": {},
   "outputs": [
    {
     "name": "stdout",
     "output_type": "stream",
     "text": [
      "vector.shape=(100,)\n"
     ]
    }
   ],
   "source": [
    "print(f\"{vector.shape=}\")\n"
   ]
  },
  {
   "cell_type": "code",
   "execution_count": null,
   "id": "6b8f2b65",
   "metadata": {},
   "outputs": [],
   "source": []
  }
 ],
 "metadata": {
  "kernelspec": {
   "display_name": "Python 3 (ipykernel)",
   "language": "python",
   "name": "python3"
  },
  "language_info": {
   "codemirror_mode": {
    "name": "ipython",
    "version": 3
   },
   "file_extension": ".py",
   "mimetype": "text/x-python",
   "name": "python",
   "nbconvert_exporter": "python",
   "pygments_lexer": "ipython3",
   "version": "3.8.13"
  }
 },
 "nbformat": 4,
 "nbformat_minor": 5
}
